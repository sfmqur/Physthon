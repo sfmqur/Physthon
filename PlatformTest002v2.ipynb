{
 "cells": [
  {
   "cell_type": "markdown",
   "metadata": {
    "collapsed": true
   },
   "source": [
    "A test of the physthon bindings for threejs functions"
   ]
  },
  {
   "cell_type": "markdown",
   "metadata": {},
   "source": [
    "An example and test "
   ]
  },
  {
   "cell_type": "code",
   "execution_count": null,
   "metadata": {},
   "outputs": [],
   "source": [
    "import pythreejs as three\n",
    "from IPython.display import display\n",
    "import physthon as phys\n",
    "\n",
    "viewWidth = 600\n",
    "viewHeight = 400\n",
    "\n",
    "# scene = three.Scene()\n",
    "# # nea and far specify that objects outside of the near far range won't be rendered\n",
    "# # generally you want aspect to be width/height\n",
    "# camera = three.PerspectiveCamera(fov=75, aspect=viewWidth / viewHeight, near=0.1, far=1000,\n",
    "#                                  position=[10, 6, 10])\n",
    "# scene.add(camera)\n",
    "# \n",
    "# # sets up the mouse controls of the camera\n",
    "# controller = three.OrbitControls(controlling=camera)\n",
    "# \n",
    "# # there is a controller property of renderer that can be used as well\n",
    "# renderer = three.Renderer(scene=scene, camera=camera, width=viewWidth, height=viewHeight,\n",
    "#                           controls=[controller])\n",
    "# # equivalent statement \n",
    "# # add lighting\n",
    "# keyLight = three.DirectionalLight(position=[0, 10, 10])\n",
    "# ambientLight = three.AmbientLight()\n",
    "# renderer.scene.add(keyLight)\n",
    "# renderer.scene.add(ambientLight)\n",
    "\n",
    "renderer = phys.Renderer(viewWidth, viewHeight)\n",
    "\n",
    "# # create the cube and add it to the scene\n",
    "# geometry = three.BoxBufferGeometry(width=1, height=1, depth=1)\n",
    "# material = three.MeshPhysicalMaterial(color='red')\n",
    "# cube = three.Mesh(geometry=geometry, material=material)\n",
    "\n",
    "sphere = phys.Sphere(radius=1)\n",
    "renderer.scene.add(sphere.mesh)\n",
    "\n",
    "\n"
   ]
  },
  {
   "cell_type": "code",
   "execution_count": null,
   "metadata": {},
   "outputs": [],
   "source": [
    "renderer.render()"
   ]
  }
 ],
 "metadata": {
  "kernelspec": {
   "display_name": "Python 2",
   "language": "python",
   "name": "python2"
  },
  "language_info": {
   "codemirror_mode": {
    "name": "ipython",
    "version": 2
   },
   "file_extension": ".py",
   "mimetype": "text/x-python",
   "name": "python",
   "nbconvert_exporter": "python",
   "pygments_lexer": "ipython2",
   "version": "2.7.6"
  }
 },
 "nbformat": 4,
 "nbformat_minor": 0
}
