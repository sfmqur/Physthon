{
 "cells": [
  {
   "cell_type": "markdown",
   "metadata": {
    "collapsed": true
   },
   "source": [
    "A Test to try to have multiple objects animate with the same animation controller, at the moment a new animator object will be created for each object and each will move separately on different timelines, I want them to animate together using one animator object. This may break animations in the previous platform tests, they will be fixed to reflect any changes in the PositionAnimator class."
   ]
  },
  {
   "cell_type": "code",
   "execution_count": null,
   "metadata": {},
   "outputs": [],
   "source": [
    "# import to have physthon in system import path\n",
    "import sys\n",
    "\n",
    "sys.path.insert(0, '../')\n",
    "\n",
    "import physthon as phys\n",
    "\n",
    "renderer = phys.Renderer(view_width=900, view_height=600)\n",
    "box = phys.Box()\n",
    "renderer.scene.add(box.mesh)\n",
    "sphere = phys.Sphere()\n",
    "renderer.scene.add(sphere.mesh)\n",
    "\n",
    "# animation elements\n",
    "times = [0, 5, 10]\n",
    "sphere_pos = [\n",
    "    0, 0, 0,\n",
    "    0, 5, 0,\n",
    "    0, 0, 0\n",
    "]\n",
    "\n",
    "box_pos = [\n",
    "    -5, 0, 0,\n",
    "    -5, 5, 0,\n",
    "    -5, 0, 0\n",
    "]\n",
    "\n",
    "sphere_animator = phys.PositionAnimator(sphere.mesh, times, sphere_pos)\n",
    "box_animator = phys.PositionAnimator(box.mesh, times, box_pos)\n"
   ]
  },
  {
   "cell_type": "code",
   "execution_count": null,
   "metadata": {},
   "outputs": [],
   "source": [
    "renderer.render()"
   ]
  },
  {
   "cell_type": "code",
   "execution_count": null,
   "metadata": {},
   "outputs": [],
   "source": [
    "sphere_animator.animate()\n",
    "box_animator.animate()"
   ]
  }
 ],
 "metadata": {
  "kernelspec": {
   "display_name": "Python 2",
   "language": "python",
   "name": "python2"
  },
  "language_info": {
   "codemirror_mode": {
    "name": "ipython",
    "version": 2
   },
   "file_extension": ".py",
   "mimetype": "text/x-python",
   "name": "python",
   "nbconvert_exporter": "python",
   "pygments_lexer": "ipython2",
   "version": "2.7.6"
  }
 },
 "nbformat": 4,
 "nbformat_minor": 0
}
