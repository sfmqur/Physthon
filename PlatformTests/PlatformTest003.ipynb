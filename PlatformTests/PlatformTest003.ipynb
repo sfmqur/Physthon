{
 "cells": [
  {
   "cell_type": "markdown",
   "metadata": {
    "collapsed": true
   },
   "source": [
    "An animation test to see if animation keyframe data can be generated, then shown."
   ]
  },
  {
   "cell_type": "code",
   "execution_count": 7,
   "metadata": {},
   "outputs": [],
   "source": [
    "import pythreejs as three\n",
    "import sys\n",
    "\n",
    "sys.path.insert(0, '../')\n",
    "import physthon as phys\n",
    "import numpy as np\n",
    "\n",
    "viewWidth = 600\n",
    "viewHeight = 400\n",
    "\n",
    "renderer = phys.Renderer(viewWidth, viewHeight)\n",
    "sphere = phys.Sphere(acceleration=[0, 0, 2])\n",
    "# add sphere mesh to renderer\n",
    "renderer.scene.add(sphere.mesh)\n",
    "\n",
    "# animation elements\n",
    "aniTime = [0, 5, 10]\n",
    "sphereAniPos = [\n",
    "    0, 0, 0,\n",
    "    0, 5, 0,\n",
    "    0, 0, 0\n",
    "]\n",
    "\n",
    "# the values for the vectorTrack is a single dimensional list of 3d position values\n",
    "sphere_position_track = three.VectorKeyframeTrack(name='.position', times=aniTime, values=sphereAniPos)\n",
    "# if there were more tracks such as rotation, they would be included in the list\n",
    "sphere_clip = three.AnimationClip(tracks=[sphere_position_track])\n",
    "sphere_action = three.AnimationAction(three.AnimationMixer(sphere.mesh), sphere_clip, sphere.mesh)\n"
   ]
  },
  {
   "cell_type": "code",
   "execution_count": 8,
   "metadata": {},
   "outputs": [
    {
     "data": {
      "text/plain": [
       "Renderer(camera=PerspectiveCamera(aspect=1.5, far=1000.0, fov=75.0, position=(10.0, 6.0, 10.0), projectionMatr…"
      ]
     },
     "metadata": {},
     "output_type": "display_data"
    }
   ],
   "source": [
    "renderer.render()"
   ]
  },
  {
   "cell_type": "code",
   "execution_count": null,
   "metadata": {},
   "outputs": [],
   "source": [
    "sphere_action"
   ]
  }
 ],
 "metadata": {
  "kernelspec": {
   "display_name": "Python 3",
   "language": "python",
   "name": "python3"
  },
  "language_info": {
   "codemirror_mode": {
    "name": "ipython",
    "version": 3
   },
   "file_extension": ".py",
   "mimetype": "text/x-python",
   "name": "python",
   "nbconvert_exporter": "python",
   "pygments_lexer": "ipython3",
   "version": "3.6.5"
  }
 },
 "nbformat": 4,
 "nbformat_minor": 1
}
