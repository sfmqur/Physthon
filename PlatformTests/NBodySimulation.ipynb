{
 "cells": [
  {
   "cell_type": "markdown",
   "metadata": {
    "collapsed": true
   },
   "source": [
    "An Nbody Simulation to test the animation engine"
   ]
  },
  {
   "cell_type": "code",
   "execution_count": null,
   "metadata": {},
   "outputs": [],
   "source": [
    "import sys\n",
    "\n",
    "sys.path.insert(0, '../')\n",
    "\n",
    "import physthon as phys\n",
    "import random as rand\n",
    "from os import urandom\n",
    "import numpy as np\n",
    "\n",
    "# camera always faces the origin, can adjust the fov parameter if needed\n",
    "renderer = phys.Renderer(900, 600, camera_position=[0, 100, 0])\n",
    "\n",
    "# seeding the random number generator \n",
    "seed = urandom(5)  # for testing purposes can pick a seed to get the same reults each time\n",
    "# seed = 12345    # can uncomment this line and comment the line above\n",
    "print(\"seed = \" + str(seed))\n",
    "rand.seed(seed)\n",
    "\n",
    "n = 3  # number of objects in scene\n",
    "G = -110  # m/kg s^2  can be changed, arbitrary central force constant based on mass will change speed of simulation\n",
    "objects = []\n",
    "\n",
    "for i in range(n):  # generates n spheres and places them in the scene, each have randome pos and \n",
    "    objects.append(\n",
    "        # random() generates a float from 0 to 1\n",
    "        phys.Sphere(mass=rand.random() * 100, color='orange', position=[rand.random() * 150 - 75, 0, rand.random() * 150 - 75],\n",
    "                    velocity=[(rand.random() * 2 - 1) * 10, 0, (rand.random() * 2 - 1) * 10])\n",
    "    )\n",
    "    renderer.scene.add(objects[len(objects) - 1].mesh)  # adds the new object mesh to scene\n",
    "\n",
    "# animation data setup\n",
    "times = []\n",
    "animate_pos = []\n",
    "for i in range(n):  # this will create position lists for all n objects\n",
    "    animate_pos.append([])\n",
    "\n",
    "# t = 0 initialization\n",
    "dt = 0.1\n",
    "endTime = 20\n",
    "times.append(0)\n",
    "\n",
    "for i in range(n): # appends the initial positions of \n",
    "    for j in range(3):\n",
    "        animate_pos[i].append(objects[i].pos[j])\n",
    "\n",
    "# euler's method \n",
    "for t in np.arange(dt, endTime, dt):  # np.arange can have double values while range is only integers\n",
    "    times.append(t)  # stores time for animation\n",
    "    for i in range(n):\n",
    "        objects[i].acc = [0, 0, 0]  # set to 0 as the next for loop will recalculate acceleration\n",
    "        for j in range(n):  # this whole loop recalculates acceleration of the ith object\n",
    "            if i != j:\n",
    "                dx = np.abs(objects[i].pos[0] - objects[j].pos[0])\n",
    "                dy = np.abs(objects[i].pos[1] - objects[j].pos[1])\n",
    "                dz = np.abs(objects[i].pos[2] - objects[j].pos[2])\n",
    "                r = np.sqrt(dx ** 2 + dy ** 2 + dz ** 2)\n",
    "                f_net = G * objects[i].mass * objects[j].mass / r ** 2\n",
    "                f = phys.vector_components(f_net, dx, dy, dz)\n",
    "                for s in range(3):\n",
    "                    objects[i].acc[s] += f[s] / objects[i].mass\n",
    "        objects[i].pos = phys.euler_method(dt, objects[i].pos, objects[i].vel, objects[i].acc)\n",
    "        for s in range(3):  # appends current position to objects animation list\n",
    "            animate_pos[i].append(objects[i].pos[s])\n",
    "\n",
    "animators = []\n",
    "for i in range(n):\n",
    "    animators.append(phys.PositionAnimator(objects[i].mesh, times, animate_pos[i]))\n",
    "\n",
    "renderer.render()\n"
   ]
  },
  {
   "cell_type": "code",
   "execution_count": null,
   "metadata": {},
   "outputs": [],
   "source": [
    "for i in range(n):\n",
    "    animators[i].animate()"
   ]
  }
 ],
 "metadata": {
  "kernelspec": {
   "display_name": "Python 2",
   "language": "python",
   "name": "python2"
  },
  "language_info": {
   "codemirror_mode": {
    "name": "ipython",
    "version": 2
   },
   "file_extension": ".py",
   "mimetype": "text/x-python",
   "name": "python",
   "nbconvert_exporter": "python",
   "pygments_lexer": "ipython2",
   "version": "2.7.6"
  }
 },
 "nbformat": 4,
 "nbformat_minor": 0
}
