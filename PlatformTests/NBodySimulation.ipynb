{
 "cells": [
  {
   "cell_type": "markdown",
   "metadata": {
    "collapsed": true
   },
   "source": [
    "An Nbody Simulation to test the animation engine"
   ]
  },
  {
   "cell_type": "code",
   "execution_count": null,
   "metadata": {},
   "outputs": [],
   "source": [
    "import sys\n",
    "\n",
    "sys.path.insert(0, '../')\n",
    "\n",
    "import physthon as phys\n",
    "import random as rand\n",
    "from os import urandom\n",
    "import numpy as np\n",
    "\n",
    "# camera always faces the origin, can adjust the fov parameter if needed\n",
    "renderer = phys.Renderer(900, 600, camera_position=[0, 100, 0])\n",
    "\n",
    "# seeding the random number generator \n",
    "seed = urandom(5)  # for testing purposes can pick a seed to get the same reults each time\n",
    "# seed = 12345    # can uncomment this line and comment the line above\n",
    "print(\"seed = \" + str(seed))\n",
    "rand.seed(seed)\n",
    "\n",
    "n = 20  # number of objects in scene\n",
    "\n",
    "objects = []\n",
    "\n",
    "for i in range(n): # generates n spheres and places them in the scene, each have randome pos and \n",
    "    objects.append(\n",
    "        # random() generates a float from 0 to 1\n",
    "        phys.Sphere(color='orange', position=[rand.random() * 150 - 75, 0, rand.random() * 150 - 75],\n",
    "                    velocity=[(rand.random() * 2 - 1) * 10, 0, (rand.random() * 2 - 1) * 10])\n",
    "    )\n",
    "    renderer.scene.add(objects[len(objects) - 1].mesh)  # adds the new object mesh to scene\n",
    "\n",
    "# animation data setup\n",
    "times = []\n",
    "objects_pos = []\n",
    "for i in range(n): # this will create position lists for all n objects\n",
    "    objects_pos.append([])\n",
    "\n",
    "# t = 0 initialization\n",
    "dt = 0.1\n",
    "times.append(0)\n",
    "\n",
    "for i in range(n):\n",
    "    for j in range(3):\n",
    "        objects_pos[i].append(objects[i].pos[j])\n",
    "\n",
    "# euler's method \n",
    "for t in np.arange(dt,10, dt): # np.arange can have double values while range is only integers\n",
    "    \n",
    "renderer.render()\n"
   ]
  },
  {
   "cell_type": "code",
   "execution_count": null,
   "metadata": {},
   "outputs": [],
   "source": []
  }
 ],
 "metadata": {
  "kernelspec": {
   "display_name": "Python 2",
   "language": "python",
   "name": "python2"
  },
  "language_info": {
   "codemirror_mode": {
    "name": "ipython",
    "version": 2
   },
   "file_extension": ".py",
   "mimetype": "text/x-python",
   "name": "python",
   "nbconvert_exporter": "python",
   "pygments_lexer": "ipython2",
   "version": "2.7.6"
  }
 },
 "nbformat": 4,
 "nbformat_minor": 0
}
