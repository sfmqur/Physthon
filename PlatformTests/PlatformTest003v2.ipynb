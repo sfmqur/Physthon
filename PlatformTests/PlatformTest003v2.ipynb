{
 "cells": [
  {
   "cell_type": "markdown",
   "metadata": {
    "collapsed": true
   },
   "source": [
    "A test for the PositionAnimator Class to simplify code"
   ]
  },
  {
   "cell_type": "code",
   "execution_count": null,
   "metadata": {},
   "outputs": [],
   "source": [
    "import sys\n",
    "\n",
    "sys.path.insert(0, '../')\n",
    "\n",
    "import physthon as phys\n",
    "\n",
    "view = 600\n",
    "viewHeight = 400\n",
    "\n",
    "renderer = phys.Renderer(viewWidth, viewHeight)\n",
    "sphere = phys.Sphere(acceleration=[0, 0, 2])\n",
    "# add sphere mesh to renderer\n",
    "renderer.scene.add(sphere.mesh)\n",
    "\n",
    "# animation elements\n",
    "aniTime = [0, 5, 10]\n",
    "sphereAniPos = [\n",
    "    0, 0, 0,\n",
    "    0, 5, 0,\n",
    "    0, 0, 0\n",
    "]\n",
    "\n",
    "# # the values for the vectorTrack is a single dimensional list of 3d position values\n",
    "# sphere_position_track = three.VectorKeyframeTrack(name='.position', times=aniTime, values=sphereAniPos)\n",
    "# # if there were more tracks such as rotation, they would be included in the list\n",
    "# sphere_clip = three.AnimationClip(tracks=[sphere_position_track])\n",
    "# sphere_action = three.AnimationAction(three.AnimationMixer(sphere.mesh), sphere_clip, sphere.mesh)\n",
    "\n",
    "animator = phys.PositionAnimator(sphere.mesh, aniTime, sphereAniPos)\n"
   ]
  },
  {
   "cell_type": "code",
   "execution_count": null,
   "metadata": {},
   "outputs": [],
   "source": [
    "renderer.render()"
   ]
  },
  {
   "cell_type": "code",
   "execution_count": null,
   "metadata": {},
   "outputs": [],
   "source": [
    "animator.animate()"
   ]
  }
 ],
 "metadata": {
  "kernelspec": {
   "display_name": "Python 2",
   "language": "python",
   "name": "python2"
  },
  "language_info": {
   "codemirror_mode": {
    "name": "ipython",
    "version": 2
   },
   "file_extension": ".py",
   "mimetype": "text/x-python",
   "name": "python",
   "nbconvert_exporter": "python",
   "pygments_lexer": "ipython2",
   "version": "2.7.6"
  }
 },
 "nbformat": 4,
 "nbformat_minor": 0
}
