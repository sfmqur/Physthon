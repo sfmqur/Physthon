{
 "cells": [
  {
   "cell_type": "markdown",
   "metadata": {
    "collapsed": true
   },
   "source": [
    "An Nbody Simulation to test the animation engine"
   ]
  },
  {
   "cell_type": "code",
   "execution_count": 1,
   "metadata": {},
   "outputs": [
    {
     "name": "stdout",
     "output_type": "stream",
     "text": [
      "seed = b'\\xa2\\x12\\x12\\x7f\\xc9'\n"
     ]
    },
    {
     "data": {
      "application/vnd.jupyter.widget-view+json": {
       "model_id": "9a45a470fdb34264b936daeb97129837",
       "version_major": 2,
       "version_minor": 0
      },
      "text/plain": [
       "Renderer(camera=PerspectiveCamera(aspect=1.5, far=1000.0, fov=75.0, position=(0.0, 200.0, 0.0), quaternion=(0.…"
      ]
     },
     "metadata": {},
     "output_type": "display_data"
    }
   ],
   "source": [
    "import sys\n",
    "\n",
    "sys.path.insert(0, '../')\n",
    "\n",
    "import physthon as phys\n",
    "import random as rand\n",
    "from os import urandom\n",
    "import numpy as np\n",
    "\n",
    "# camera always faces the origin, can adjust the fov parameter if needed\n",
    "renderer = phys.Renderer(900, 600, camera_position=[0, 200, 0])\n",
    "\n",
    "# seeding the random number generator \n",
    "seed = urandom(5)  # for testing purposes can pick a seed to get the same reults each time\n",
    "# seed = b'\\xa2\\x12\\x12\\x7f\\xc9'   # can uncomment this line and comment the line above\n",
    "print(\"seed = \" + str(seed))\n",
    "rand.seed(seed)\n",
    "\n",
    "n = 20  # number of objects in scene\n",
    "G = -3.1  # m/kg s^2  can be changed, arbitrary central force constant based on mass will change speed of simulation\n",
    "dt = 0.1\n",
    "endTime = 60\n",
    "\n",
    "objects = []\n",
    "\n",
    "# creates a larger central object at the orgin without any velocity\n",
    "objects.append(\n",
    "    phys.Sphere(radius=2, color='orange', mass=10000, position=[0, 0, 0], velocity=[0, 0, 0])\n",
    ")\n",
    "renderer.scene.add(objects[len(objects) - 1].mesh)  # adds the new object mesh to scene\n",
    "\n",
    "for i in range(n - 1):  # generates n-1 spheres and places them in the scene, each have random pos and vel\n",
    "    objects.append(\n",
    "        # random() generates a float from 0 to 1\n",
    "        phys.Sphere(mass=rand.random() * 100, color='blue',\n",
    "                    position=[rand.random() * 150 - 75, rand.random() * 150 - 75, rand.random() * 150 - 75],\n",
    "                    velocity=[(rand.random() * 2 - 1) * 15, (rand.random() * 2 - 1) * 15, (rand.random() * 2 - 1) * 15])\n",
    "    )\n",
    "    renderer.scene.add(objects[len(objects) - 1].mesh)  # adds the new object mesh to scene\n",
    "\n",
    "# animation data setup\n",
    "times = []\n",
    "animate_pos = []\n",
    "for i in range(n):  # this will create position lists for all n objects\n",
    "    animate_pos.append([])\n",
    "\n",
    "# t = 0 initialization\n",
    "\n",
    "times.append(0)\n",
    "\n",
    "for i in range(n):  # appends the initial positions of \n",
    "    for j in range(3):\n",
    "        animate_pos[i].append(objects[i].pos[j])\n",
    "\n",
    "# euler's method \n",
    "for t in np.arange(dt, endTime, dt):  # np.arange can have double values while range is only integers\n",
    "    times.append(t)  # stores time for animation\n",
    "    for i in range(n):\n",
    "        objects[i].acc = [0, 0, 0]  # set to 0 as the next for loop will recalculate acceleration\n",
    "        for j in range(n):  # this whole loop recalculates acceleration of the ith object\n",
    "            if i != j:\n",
    "                dx = objects[i].pos[0] - objects[j].pos[0]\n",
    "                dy = objects[i].pos[1] - objects[j].pos[1]\n",
    "                dz = objects[i].pos[2] - objects[j].pos[2]\n",
    "                r = np.sqrt(dx ** 2 + dy ** 2 + dz ** 2)\n",
    "                f_net = G * objects[i].mass * objects[j].mass / r ** 2\n",
    "                f = phys.vector_components(f_net, dx, dy, dz)\n",
    "                for s in range(3):\n",
    "                    objects[i].acc[s] += f[s] / objects[i].mass\n",
    "        objects[i].pos = phys.euler_method(dt, objects[i].pos, objects[i].vel, objects[i].acc)\n",
    "        for s in range(3):  # appends current position to objects animation list\n",
    "            animate_pos[i].append(objects[i].pos[s])\n",
    "\n",
    "animators = []\n",
    "for i in range(n):\n",
    "    animators.append(phys.PositionAnimator(objects[i].mesh, times, animate_pos[i]))\n",
    "\n",
    "renderer.render()\n"
   ]
  },
  {
   "cell_type": "code",
   "execution_count": 2,
   "metadata": {},
   "outputs": [],
   "source": [
    "for i in range(n):\n",
    "    animators[i].animate()"
   ]
  },
  {
   "cell_type": "code",
   "execution_count": null,
   "metadata": {},
   "outputs": [],
   "source": []
  }
 ],
 "metadata": {
  "kernelspec": {
   "display_name": "Python 3",
   "language": "python",
   "name": "python3"
  },
  "language_info": {
   "codemirror_mode": {
    "name": "ipython",
    "version": 3
   },
   "file_extension": ".py",
   "mimetype": "text/x-python",
   "name": "python",
   "nbconvert_exporter": "python",
   "pygments_lexer": "ipython3",
   "version": "3.6.5"
  }
 },
 "nbformat": 4,
 "nbformat_minor": 1
}
