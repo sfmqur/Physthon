{
 "cells": [
  {
   "cell_type": "markdown",
   "metadata": {
    "collapsed": true
   },
   "source": [
    "A kinematics demo using only the base geometries and the animation engine."
   ]
  },
  {
   "cell_type": "code",
   "execution_count": 14,
   "metadata": {},
   "outputs": [
    {
     "name": "stdout",
     "output_type": "stream",
     "text": [
      "final time: 2.1\n",
      "final position: 0, -0.638, -8.9\n"
     ]
    },
    {
     "data": {
      "application/vnd.jupyter.widget-view+json": {
       "model_id": "8d915be757a94d9381fdaeeb360d10d3",
       "version_major": 2,
       "version_minor": 0
      },
      "text/plain": [
       "Renderer(camera=PerspectiveCamera(aspect=1.5, far=1000.0, fov=75.0, position=(10.0, 10.0, 10.0), quaternion=(0…"
      ]
     },
     "metadata": {},
     "output_type": "display_data"
    }
   ],
   "source": [
    "import sys\n",
    "\n",
    "sys.path.insert(0, '../')\n",
    "\n",
    "import physthon as phys\n",
    "\n",
    "# camera always faces the origin, can adjust the fov parameter if needed\n",
    "renderer = phys.Renderer(900, 600, camera_position=[10, 10, 10])\n",
    "floor = phys.Box(color='green', width=20, height=1, depth=20)\n",
    "sphere = phys.Sphere(position=[0, 1, 10], velocity=[0, 10, -9], acceleration=[0, -9.8, 0])\n",
    "\n",
    "renderer.scene.add(floor.mesh)\n",
    "renderer.scene.add(sphere.mesh)\n",
    "\n",
    "# initialize position and velocity into animator lists\n",
    "times = [0]\n",
    "dt = 0.1\n",
    "t = 0\n",
    "pos = [sphere.pos[0], sphere.pos[1], sphere.pos[2]]  # takes initial position of sphere\n",
    "\n",
    "# euler method loop; only done with the y  \n",
    "while sphere.pos[1] > 0:\n",
    "    t += dt\n",
    "    times.append(t)\n",
    "\n",
    "    for i in range(3):\n",
    "        sphere.vel[i] += sphere.acc[i] * dt\n",
    "        sphere.pos[i] += sphere.vel[i] * dt\n",
    "        pos.append(sphere.pos[i])\n",
    "\n",
    "print(\"final time: %g\" % t)\n",
    "print(\"final position: %g, %g, %g\" % (sphere.pos[0], sphere.pos[1], sphere.pos[2]))\n",
    "animator = phys.PositionAnimator(sphere.mesh, times, pos)\n",
    "\n",
    "renderer.render()\n"
   ]
  },
  {
   "cell_type": "code",
   "execution_count": 15,
   "metadata": {},
   "outputs": [],
   "source": [
    "animator.animate()"
   ]
  },
  {
   "cell_type": "code",
   "execution_count": null,
   "metadata": {},
   "outputs": [],
   "source": []
  }
 ],
 "metadata": {
  "kernelspec": {
   "display_name": "Python 3",
   "language": "python",
   "name": "python3"
  },
  "language_info": {
   "codemirror_mode": {
    "name": "ipython",
    "version": 3
   },
   "file_extension": ".py",
   "mimetype": "text/x-python",
   "name": "python",
   "nbconvert_exporter": "python",
   "pygments_lexer": "ipython3",
   "version": "3.6.5"
  }
 },
 "nbformat": 4,
 "nbformat_minor": 1
}
