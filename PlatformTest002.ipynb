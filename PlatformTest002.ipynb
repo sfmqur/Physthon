{
 "cells": [
  {
   "cell_type": "markdown",
   "metadata": {
    "collapsed": true
   },
   "source": [
    "This test creates a single red cube with camera controls and "
   ]
  },
  {
   "cell_type": "code",
   "execution_count": 11,
   "metadata": {},
   "outputs": [],
   "source": [
    "import pythreejs as three\n",
    "from IPython.display import display\n",
    "\n",
    "viewWidth = 600\n",
    "viewHeight = 400\n",
    "scene = three.Scene()\n",
    "# nea and far specify that objects outside of the near far range won't be rendered\n",
    "# generally you want aspect to be width/height\n",
    "camera = three.PerspectiveCamera(fov=75, aspect=viewWidth / viewHeight, near=0.1, far=1000,\n",
    "                                 position=[10, 6, 10])\n",
    "scene.add(camera)\n",
    "\n",
    "# sets up the mouse controls of the camera\n",
    "controller = three.OrbitControls(controlling=camera)\n",
    "\n",
    "# there is a controller property of renderer that can be used as well\n",
    "renderer = three.Renderer(scene=scene, camera=camera, width=viewWidth, height=viewHeight,\n",
    "                          controls=[controller])\n",
    "\n",
    "\n",
    "# create the cube and add it to the scene\n",
    "geometry = three.BoxBufferGeometry(width=1, height=1, depth=1)\n",
    "material = three.MeshPhysicalMaterial(color='red')\n",
    "cube = three.Mesh(geometry=geometry, material=material)\n",
    "scene.add(cube)\n",
    "\n",
    "# add lighting\n",
    "keyLight = three.DirectionalLight(position=[0, 10, 10])\n",
    "ambientLight = three.AmbientLight()\n",
    "scene.add(keyLight)\n",
    "scene.add(ambientLight)\n",
    "\n"
   ]
  },
  {
   "cell_type": "code",
   "execution_count": 12,
   "metadata": {},
   "outputs": [
    {
     "data": {
      "text/plain": [
       "Renderer(camera=PerspectiveCamera(aspect=1.5, far=1000.0, fov=75.0, position=(10.0, 6.0, 10.0), quaternion=(0.…"
      ]
     },
     "execution_count": 0,
     "metadata": {},
     "output_type": "execute_result"
    }
   ],
   "source": [
    "renderer"
   ]
  },
  {
   "cell_type": "code",
   "execution_count": null,
   "metadata": {},
   "outputs": [],
   "source": []
  }
 ],
 "metadata": {
  "kernelspec": {
   "display_name": "Python 2",
   "language": "python",
   "name": "python2"
  },
  "language_info": {
   "codemirror_mode": {
    "name": "ipython",
    "version": 2
   },
   "file_extension": ".py",
   "mimetype": "text/x-python",
   "name": "python",
   "nbconvert_exporter": "python",
   "pygments_lexer": "ipython2",
   "version": "2.7.6"
  }
 },
 "nbformat": 4,
 "nbformat_minor": 0
}
